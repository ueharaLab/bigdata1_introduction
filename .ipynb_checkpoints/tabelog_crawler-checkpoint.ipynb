{
 "cells": [
  {
   "cell_type": "code",
   "execution_count": null,
   "id": "4f0383f2",
   "metadata": {},
   "outputs": [],
   "source": [
    "from urllib.request import urlopen\n",
    "import urllib.request\n",
    "import urllib.parse\n",
    "import urllib\n",
    "import lxml.html\n",
    "import os.path\n",
    "import pandas as pd\n",
    "\n",
    "\n",
    "\n",
    "shop_review_url = 'https://tabelog.com/tokyo/A1302/A130202/13193074/dtlrvwlst/COND-0/smp1/?smp=1&lc=0&rvw_part=all&PG='\n",
    "max_reviewList_pages=100\n",
    "for pageNo in range(max_reviewList_pages):\n",
    "\tprint('page=',pageNo+1)\n",
    "\t\n",
    "\tbodyRes = urllib.request.urlopen(shop_review_url + str(pageNo+1))\n",
    "\t\t\n",
    "\tbodyHtml = bodyRes.read()\t\t\t\t\t\t\n",
    "\thtmlTreeBody = lxml.html.fromstring(bodyHtml.decode('utf-8'))\n",
    "\ttitle_path = htmlTreeBody.xpath(\"//a[@class='rvw-item__title-target']/strong\")\n",
    "\t\n",
    "\t\n",
    "\treview_path = htmlTreeBody.xpath(\"//div[@class='rvw-item__rvw-comment rvw-item__rvw-comment--custom']/p\")\n",
    "\t\n",
    "\t#レビューリストページ1ページにあるフルレビューリンクリストを1つづつ読みだす\n",
    "\tfor title,review in zip(title_path,review_path):\n",
    "\t\t\n",
    "\t\tprint('title',title.text_content())\t\n",
    "\t\treview = review.text_content().replace('<br />','').replace(' ','')\n",
    "\t\tprint('tweets',review)\n",
    "\t\t\n"
   ]
  }
 ],
 "metadata": {
  "kernelspec": {
   "display_name": "Python 3 (ipykernel)",
   "language": "python",
   "name": "python3"
  },
  "language_info": {
   "codemirror_mode": {
    "name": "ipython",
    "version": 3
   },
   "file_extension": ".py",
   "mimetype": "text/x-python",
   "name": "python",
   "nbconvert_exporter": "python",
   "pygments_lexer": "ipython3",
   "version": "3.9.12"
  }
 },
 "nbformat": 4,
 "nbformat_minor": 5
}
